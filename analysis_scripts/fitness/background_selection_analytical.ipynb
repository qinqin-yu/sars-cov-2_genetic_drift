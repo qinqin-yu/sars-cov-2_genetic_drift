{
 "cells": [
  {
   "cell_type": "code",
   "execution_count": 1,
   "id": "c01e9497-bf39-4116-a3d6-e1fc74a56ab5",
   "metadata": {
    "tags": []
   },
   "outputs": [],
   "source": [
    "import pandas as pd\n",
    "import scipy\n",
    "import numpy as np\n",
    "import matplotlib\n",
    "import matplotlib.pyplot as plt\n",
    "font = {'family' : 'arial',\n",
    "        'size'   : 15}\n",
    "matplotlib.rc('font', **font)\n",
    "import seaborn as sns\n",
    "sns.set(style = 'whitegrid', font_scale = 1.5)"
   ]
  },
  {
   "cell_type": "markdown",
   "id": "75ca5e5b-5217-497c-9a9d-cae2554dc643",
   "metadata": {
    "tags": []
   },
   "source": [
    "### Define parameters"
   ]
  },
  {
   "cell_type": "code",
   "execution_count": 2,
   "id": "2e3d4a5b-fc45-4b19-bba0-000e6cb66b9b",
   "metadata": {
    "tags": []
   },
   "outputs": [],
   "source": [
    "mu_year = 31 # substitutions per year, taken from Nextstrain's GISAID build on 8/7/2023\n",
    "gen_time = 5.1/365 # generation time (5.1 days) in years, estimate taken from https://elifesciences.org/articles/70767\n",
    "mu_gen = mu_year*gen_time\n",
    "Ne = 10**3"
   ]
  },
  {
   "cell_type": "markdown",
   "id": "9d3e0175-25e3-4e41-87a4-727c4013cb7c",
   "metadata": {},
   "source": [
    "### Load data"
   ]
  },
  {
   "cell_type": "code",
   "execution_count": 3,
   "id": "987f341a-7a5e-4a90-992b-acbbbfcb5c61",
   "metadata": {
    "tags": []
   },
   "outputs": [],
   "source": [
    "bloom_neher_2023 = pd.read_csv('../../data/fitness/bloom_neher_2023_aamut_fitness_all.csv')\n",
    "dfe = bloom_neher_2023['delta_fitness'].values\n",
    "del_dfe = -1*dfe[dfe<0] # Get only the negative fitnesses and take their absolute value"
   ]
  },
  {
   "cell_type": "markdown",
   "id": "87e7d094-7ba5-42a9-bc8b-6c3d76f1f90c",
   "metadata": {},
   "source": [
    "### Discretize delerious distribution of fitness effects"
   ]
  },
  {
   "cell_type": "code",
   "execution_count": 5,
   "id": "f4eba823-a1ad-4487-818f-22a86b450202",
   "metadata": {
    "tags": []
   },
   "outputs": [
    {
     "data": {
      "image/png": "[encoded data removed]",
      "text/plain": [
       "<Figure size 432x288 with 1 Axes>"
      ]
     },
     "metadata": {
      "needs_background": "light"
     },
     "output_type": "display_data"
    }
   ],
   "source": [
    "ds = 0.01\n",
    "bins = np.arange(0, 10, ds)\n",
    "rho_s, bins = np.histogram(del_dfe, bins, density = True)\n",
    "s = bins[:-1] + ds/2\n",
    "plt.hist(del_dfe, bins, density = True, edgecolor = 'b')\n",
    "plt.plot([1/Ne, 1/Ne], [0, 4.2], label = '$\\\\frac{1}{N_e}$')\n",
    "plt.ylim([0, 4.2])\n",
    "plt.xlabel('Deleterious fitness coeffient')\n",
    "plt.ylabel('Density')\n",
    "plt.legend()\n",
    "plt.tight_layout()\n",
    "plt.savefig('../../figures/figure_outputs/empirical_deleterious_dfe_bloom_neher.png', dpi = 300)\n",
    "plt.savefig('../../figures/figure_outputs/empirical_deleterious_dfe_bloom_neher.pdf')\n",
    "plt.show()"
   ]
  },
  {
   "cell_type": "markdown",
   "id": "27b5eb92-1d31-4905-8df6-36bf00b1be29",
   "metadata": {
    "tags": []
   },
   "source": [
    "We see that the assumption that we are in the strong selection regime ($s>>1/N_e$) hold most of the density of the DFE is above $1/N_e$."
   ]
  },
  {
   "cell_type": "markdown",
   "id": "6e681e61-9dd4-4e9c-8954-43776a2e7625",
   "metadata": {
    "tags": []
   },
   "source": [
    "### Calculate the reduced effective population size over time ($N_e(t)$) taking into account background selection"
   ]
  },
  {
   "cell_type": "markdown",
   "id": "e1daec0e-16e9-4f05-8ce0-c8cbd776c341",
   "metadata": {},
   "source": [
    "From Nicholaisen and Desai, Genetics, 2013, equation 8 (with no recombination):\n",
    "\n",
    "$N_e(t) = Nexp[-\\int_0^{\\infty}(1-e^{-st})^2\\rho(s)ds]$\n",
    "\n",
    "where:\n",
    "\n",
    "$N$ = census population size\n",
    "\n",
    "$\\rho(s)$ = distribution of negative fitness effects (defined as s>0)\n",
    "\n",
    "$t$ = time in generations backwards in time"
   ]
  },
  {
   "cell_type": "code",
   "execution_count": 6,
   "id": "ea013f6c-9c5a-4421-8967-85ef2d6a1b44",
   "metadata": {
    "scrolled": true,
    "tags": []
   },
   "outputs": [],
   "source": [
    "t = np.arange(0,200,0.1)\n",
    "s_trans = np.reshape(s, (len(s),1))\n",
    "rho_s_trans = np.reshape(rho_s, (len(rho_s),1))\n",
    "exponent = -1*np.sum((mu_gen/s_trans)*(1-np.exp(-s_trans*t))**2*rho_s_trans*ds, axis = 0)\n",
    "Ne_corr = Ne*np.exp(exponent)"
   ]
  },
  {
   "cell_type": "markdown",
   "id": "e6fece70-62dd-4101-b5b2-8069279ac97e",
   "metadata": {},
   "source": [
    "### Plot results"
   ]
  },
  {
   "cell_type": "code",
   "execution_count": 7,
   "id": "1abe0029-d8ee-4797-9962-dcb307f82bcb",
   "metadata": {
    "tags": []
   },
   "outputs": [
    {
     "data": {
      "image/png": "[encoded data removed]",
      "text/plain": [
       "<Figure size 432x288 with 1 Axes>"
      ]
     },
     "metadata": {
      "needs_background": "light"
     },
     "output_type": "display_data"
    }
   ],
   "source": [
    "plt.plot(t, Ne_corr)\n",
    "plt.xlabel('Generations in the past')\n",
    "plt.ylabel('$N_e$')\n",
    "plt.xlim([0, 52])\n",
    "plt.tight_layout()\n",
    "plt.savefig('../../figures/figure_outputs/background_selection.png', dpi = 300)\n",
    "plt.savefig('../../figures/figure_outputs/background_selection.pdf', dpi = 300)\n",
    "\n",
    "plt.show()"
   ]
  },
  {
   "cell_type": "markdown",
   "id": "f0013d2a-d296-4f7a-8491-1cf2974a2c7d",
   "metadata": {},
   "source": [
    "We see that the effective population size is reduced at most by a factor of about 2, and that is only at distant times in the past."
   ]
  },
  {
   "cell_type": "code",
   "execution_count": null,
   "id": "bf41f8ec-b5d0-4ad2-945a-92e6f4475198",
   "metadata": {},
   "outputs": [],
   "source": []
  }
 ],
 "metadata": {
  "kernelspec": {
   "display_name": "sars-cov-2_genetic_drift",
   "language": "python",
   "name": "sars-cov-2_genetic_drift"
  },
  "language_info": {
   "codemirror_mode": {
    "name": "ipython",
    "version": 3
   },
   "file_extension": ".py",
   "mimetype": "text/x-python",
   "name": "python",
   "nbconvert_exporter": "python",
   "pygments_lexer": "ipython3",
   "version": "3.11.4"
  }
 },
 "nbformat": 4,
 "nbformat_minor": 5
}
